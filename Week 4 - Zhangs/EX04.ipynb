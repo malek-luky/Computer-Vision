{
 "cells": [
  {
   "cell_type": "markdown",
   "metadata": {},
   "source": [
    "# WEEK 4\n",
    "\n",
    "In this section consider the 3D points\n",
    "$$\n",
    "\\boldsymbol{Q}_{i j k}=\\left[\\begin{array}{l}\n",
    "i \\\\\n",
    "j \\\\\n",
    "k\n",
    "\\end{array}\\right]\n",
    "$$\n",
    "where $i=0,1, j=0,1$, and $k=0,1$. Consider also a camera with $f=1000$ and a resolution of $1080 \\times 1920$. Furthermore, the camera is transformed such that\n",
    "$$\n",
    "\\boldsymbol{R}=\\left[\\begin{array}{ccc}\n",
    "\\sqrt{1 / 2} & -\\sqrt{1 / 2} & 0 \\\\\n",
    "\\sqrt{1 / 2} & \\sqrt{1 / 2} & 0 \\\\\n",
    "0 & 0 & 1\n",
    "\\end{array}\\right] \\text { and } \\boldsymbol{t}=\\left[\\begin{array}{lll}\n",
    "0 & 0 & 10\n",
    "\\end{array}\\right]\n",
    "$$"
   ]
  },
  {
   "cell_type": "code",
   "execution_count": 1,
   "metadata": {},
   "outputs": [],
   "source": [
    "from scipy.spatial.transform import Rotation\n",
    "import matplotlib.pyplot as plt\n",
    "import numpy as np\n",
    "import itertools\n",
    "import sys\n",
    "\n",
    "sys.path.append('..') #go back 1 folder\n",
    "from library import to_inhomogeneous, to_inhomogeneous_3D, cross0p, checkerboard_points, estimateHomographies, estimate_b, get_v, estimateIntrinsics,estimateExtrinsics, calibrateCamera, DLT"
   ]
  },
  {
   "cell_type": "markdown",
   "metadata": {},
   "source": [
    "## Exercise 1 - Direct linear transform\n",
    "* Find P and the projections q\n",
    "* Projection $P_{3x4}$\n",
    "* $f_x = f$\n",
    "* $f_y = f$\n",
    "* $o_x = 1920/2$\n",
    "* $o_y = 1080/2$\n",
    "* $q = P*Q$"
   ]
  },
  {
   "cell_type": "code",
   "execution_count": 2,
   "metadata": {},
   "outputs": [
    {
     "name": "stdout",
     "output_type": "stream",
     "text": [
      "Projection\n",
      "[[ 7.07e+02 -7.07e+02  9.60e+02  9.60e+03]\n",
      " [ 7.07e+02  7.07e+02  5.40e+02  5.40e+03]\n",
      " [ 0.00e+00  0.00e+00  1.00e+00  1.00e+01]]\n",
      "q\n",
      "[[ 960.  960.  889.  896. 1031. 1024.  960.  960.]\n",
      " [ 540.  540.  611.  604.  611.  604.  681.  669.]]\n"
     ]
    }
   ],
   "source": [
    "Q = np.array([\n",
    "    [0, 0, 0, 0, 1, 1, 1, 1],\n",
    "    [0, 0, 1, 1, 0, 0, 1, 1],\n",
    "    [0, 1, 0, 1, 0, 1, 0, 1],\n",
    "    np.ones(8)\n",
    "])\n",
    "R = np.array([[np.sqrt(1/2),-np.sqrt(1/2),0],[np.sqrt(1/2),np.sqrt(1/2),0],[0,0,1]])\n",
    "t = np.array([[0,0,10]]).T\n",
    "K = np.array([[1000,0,960],[0,1000,540],[0,0,1]])\n",
    "P = K@np.hstack((R,t))\n",
    "print(\"Projection\")\n",
    "print(np.round(P))\n",
    "print(\"q\")\n",
    "q = P@Q\n",
    "q = q / q[2]\n",
    "print(np.round(to_inhomogeneous(q)))"
   ]
  },
  {
   "cell_type": "markdown",
   "metadata": {},
   "source": [
    "## Exercise 4.2\n",
    "* Using only $Q$ and $q$ estimate the projection matrix $P$ with DLT. Do not normalize your points to begin with\n",
    "* Use the estimated projection matrix to reproject the points $Q$. What is the reprojection error $\\sqrt{\\sum\\left\\|\\boldsymbol{q}_{\\mathrm{est}}-\\boldsymbol{q}\\right\\|^{2}} ?$ Does normalizing your points change the results?"
   ]
  },
  {
   "cell_type": "code",
   "execution_count": 3,
   "metadata": {},
   "outputs": [
    {
     "name": "stdout",
     "output_type": "stream",
     "text": [
      "[[ 7.0711e+02 -7.0711e+02  9.6000e+02  9.6000e+03]\n",
      " [ 7.0711e+02  7.0711e+02  5.4000e+02  5.4000e+03]\n",
      " [-0.0000e+00  0.0000e+00  1.0000e+00  1.0000e+01]]\n",
      "Reprojection error without normalization:  2.5855813773991403e-10\n",
      "Reprojection error wwth normalization:  4.547473508864641e-13\n"
     ]
    }
   ],
   "source": [
    "# PROJECTION P\n",
    "P = DLT(Q, q)\n",
    "P = P/P[-1, -1]\n",
    "print(np.round(P * 10, 2))\n",
    "\n",
    "# REPROJECTION ERROR\n",
    "P = DLT(Q, q, normalize=False)\n",
    "P = P/P[-1, -1]\n",
    "q2 = P @ Q\n",
    "q2 = q2 / q2[2]\n",
    "projection_error = np.linalg.norm(q - q2)\n",
    "print(\"Reprojection error without normalization: \",projection_error)\n",
    "\n",
    "# REPROJECTION ERROR NORMALIZED\n",
    "P = DLT(Q, q, normalize=True)\n",
    "P = P/P[-1, -1]\n",
    "q2 = P @ Q\n",
    "q2 = q2 / q2[2]\n",
    "projection_error = np.linalg.norm(q - q2)\n",
    "print(\"Reprojection error wwth normalization: \",projection_error)"
   ]
  },
  {
   "cell_type": "markdown",
   "metadata": {},
   "source": [
    "## Exercise 4.3\n",
    "* Define a function checkerboard_points(n, m) that returns the 3D points $Q_ij$ that will work for us as detected corners of the board\n",
    "* These points lie in the z = 0 plane by definition"
   ]
  },
  {
   "cell_type": "code",
   "execution_count": 4,
   "metadata": {},
   "outputs": [
    {
     "data": {
      "text/plain": [
       "array([[-1.,  0.,  1., -1.,  0.,  1., -1.,  0.,  1.],\n",
       "       [-1., -1., -1.,  0.,  0.,  0.,  1.,  1.,  1.],\n",
       "       [ 0.,  0.,  0.,  0.,  0.,  0.,  0.,  0.,  0.]])"
      ]
     },
     "execution_count": 4,
     "metadata": {},
     "output_type": "execute_result"
    }
   ],
   "source": [
    "checkerboard_points(3, 3)"
   ]
  },
  {
   "cell_type": "markdown",
   "metadata": {},
   "source": [
    "## Exercise 4.4\n",
    "Let $\\boldsymbol{Q}_{\\Omega}$ define a set of corners on a checkerboard. Then define three sets of checkerboard points $\\boldsymbol{Q}_{a}, \\boldsymbol{Q}_{b}$, and $\\boldsymbol{Q}_{c}$, where\n",
    "$$\n",
    "\\begin{aligned}\n",
    "\\boldsymbol{Q}_{a} &=\\mathcal{R}\\left(\\frac{\\pi}{10}, 0,0\\right) \\boldsymbol{Q}_{\\Omega} \\\\\n",
    "\\boldsymbol{Q}_{b} &=\\mathcal{R}(0,0,0) \\boldsymbol{Q}_{\\Omega} \\\\\n",
    "\\boldsymbol{Q}_{c} &=\\mathcal{R}\\left(-\\frac{\\pi}{10}, 0,0\\right) \\boldsymbol{Q}_{\\Omega}\n",
    "\\end{aligned}\n",
    "$$\n",
    "where\n",
    "$$\n",
    "\\boldsymbol{R}\\left(\\theta_{x}, \\theta_{y}, \\theta_{z}\\right)=\\left[\\begin{array}{ccc}\n",
    "\\cos \\left(\\theta_{z}\\right) & -\\sin \\left(\\theta_{z}\\right) & 0 \\\\\n",
    "\\sin \\left(\\theta_{z}\\right) & \\cos \\left(\\theta_{z}\\right) & 0 \\\\\n",
    "0 & 0 & 1\n",
    "\\end{array}\\right]\\left[\\begin{array}{ccc}\n",
    "\\cos \\left(\\theta_{y}\\right) & 0 & \\sin \\left(\\theta_{y}\\right) \\\\\n",
    "0 & 1 & 0 \\\\\n",
    "-\\sin \\left(\\theta_{y}\\right) & 0 & \\cos \\left(\\theta_{y}\\right)\n",
    "\\end{array}\\right]\\left[\\begin{array}{ccc}\n",
    "1 & 0 & 0 \\\\\n",
    "0 & \\cos \\left(\\theta_{x}\\right) & -\\sin \\left(\\theta_{x}\\right) \\\\\n",
    "0 & \\sin \\left(\\theta_{x}\\right) & \\cos \\left(\\theta_{x}\\right)\n",
    "\\end{array}\\right] .\n",
    "$$\n",
    "\n",
    "Using the projection matrix from Exercise 4.1, project all the checkerboard points to the image plane, obtaining: qa, qb, and qc."
   ]
  },
  {
   "cell_type": "code",
   "execution_count": 5,
   "metadata": {},
   "outputs": [
    {
     "data": {
      "image/png": "[encoded data removed]",
      "text/plain": [
       "<Figure size 432x288 with 1 Axes>"
      ]
     },
     "metadata": {
      "needs_background": "light"
     },
     "output_type": "display_data"
    }
   ],
   "source": [
    "n, m = 8, 8\n",
    "Q_omega = checkerboard_points(n, m)\n",
    "\n",
    "R_a = Rotation.from_euler('xyz', [np.pi / 10, 0, 0]).as_matrix()\n",
    "R_c = Rotation.from_euler('xyz', [- np.pi / 10, 0, 0]).as_matrix()\n",
    "\n",
    "Q_a = np.vstack((\n",
    "    R_a @ Q_omega,\n",
    "    np.ones(n * m)\n",
    "))\n",
    "Q_b = np.vstack((\n",
    "    Q_omega,\n",
    "    np.ones(n * m)\n",
    "))\n",
    "Q_c = np.vstack((\n",
    "    R_c @ Q_omega,\n",
    "    np.ones(n * m)\n",
    "))\n",
    "\n",
    "Q_omega = np.vstack((\n",
    "    Q_omega,\n",
    "    np.ones(n * m)\n",
    "))\n",
    "\n",
    "\n",
    "fig = plt.figure()\n",
    "ax = fig.add_subplot(111, projection=\"3d\")\n",
    "ax.scatter(Q_a[0], Q_a[1], Q_a[2])\n",
    "ax.scatter(Q_b[0], Q_b[1], Q_b[2])\n",
    "ax.scatter(Q_c[0], Q_c[1], Q_c[2])\n",
    "ax.view_init(15, 15)\n",
    "fig.savefig('ex4_plot1.jpg', dpi=500)\n",
    "\n",
    "q_a = P @ Q_a\n",
    "q_b = P @ Q_b\n",
    "q_c = P @ Q_c\n",
    "qs = [q_a, q_b, q_c]\n"
   ]
  },
  {
   "cell_type": "markdown",
   "metadata": {},
   "source": [
    "## Zhangs Method\n",
    "## Exercise 4.5\n",
    "Define a function estimateHomographies(Q_omega, qs). The function should return the homographies that map from Q_omega to each of the entries in qs. The homographies should work as follows:\n",
    "$$\n",
    "\\boldsymbol{q}=H \\tilde{\\boldsymbol{Q}}_{\\Omega}\n",
    "$$\n",
    "where $\\tilde{\\boldsymbol{Q}}_{\\Omega}$ is $\\boldsymbol{Q}_{\\Omega}$ without the $z$-coordinate, in homogeneous coordinates. Remember that we need multiple orientations of checkerboards e.g. rotated and translated.\n",
    "\n",
    "Use your function hest from week 2 to estimate the individual homographies. Your should return a list of homographies; one homography for each checkerboard orientation.\n",
    "\n",
    "Test your function using $\\boldsymbol{Q}_{\\Omega}, \\boldsymbol{q}_{a}, \\boldsymbol{q}_{b}$, and $\\boldsymbol{q}_{c}$. Check that the estimated homographies are correct with Equation 13 ."
   ]
  },
  {
   "cell_type": "code",
   "execution_count": 6,
   "metadata": {},
   "outputs": [
    {
     "name": "stdout",
     "output_type": "stream",
     "text": [
      "[array([[ 7.07106781e+01, -3.75842197e+01,  9.60000000e+02],\n",
      "       [ 7.07106781e+01,  8.39367689e+01,  5.40000000e+02],\n",
      "       [-1.71103249e-15,  3.09016994e-02,  1.00000000e+00]]), array([[ 7.07106781e+01, -7.07106781e+01,  9.60000000e+02],\n",
      "       [ 7.07106781e+01,  7.07106781e+01,  5.40000000e+02],\n",
      "       [-1.71983303e-15,  1.33047028e-15,  1.00000000e+00]]), array([[ 7.07106781e+01, -9.69154827e+01,  9.60000000e+02],\n",
      "       [ 7.07106781e+01,  5.05629335e+01,  5.40000000e+02],\n",
      "       [-1.73150171e-15, -3.09016994e-02,  1.00000000e+00]])]\n"
     ]
    },
    {
     "data": {
      "text/plain": [
       "(True, True, True)"
      ]
     },
     "execution_count": 6,
     "metadata": {},
     "output_type": "execute_result"
    }
   ],
   "source": [
    "Hs = estimateHomographies(Q_omega, qs)\n",
    "print(Hs)\n",
    "H_a, H_b, H_c = Hs\n",
    "\n",
    "# CHECK THE CORRECTNESS OF HOMOGRAPHIES\n",
    "tilde = [0, 1, 3]\n",
    "a = (np.round(H_a @ Q_omega[tilde] - q_a, 7) == 0).all()\n",
    "b = (np.round(H_b @ Q_omega[tilde] - q_b, 7) == 0).all()\n",
    "c = (np.round(H_c @ Q_omega[tilde] - q_c, 7) == 0).all()\n",
    "a, b, c"
   ]
  },
  {
   "cell_type": "markdown",
   "metadata": {},
   "source": [
    "## Exercise 4.6\n",
    "Now, define a function estimate_b(Hs) that takes a list of homographies Hs and returns the vector $\\boldsymbol{b}$ from Equation 6 in the paper. Use Equations 8 and 9 in the paper to form the matrix $\\boldsymbol{V}$. This is the coefficient matrix used to estimate $\\boldsymbol{b}$ using SVD.\n",
    "\n",
    "Test your function with the homographies from previous exercise. See if you get the same result as by constructing $\\boldsymbol{B}_{\\text {true }}=\\boldsymbol{K}^{-\\mathrm{T}} \\boldsymbol{K}^{-1}$, and converting this into $\\boldsymbol{b}_{\\text {true }}$.\n",
    "Is $\\boldsymbol{b}$ a scaled version of $\\boldsymbol{b}_{\\text {true }}$ ?\n",
    "Suggestions for debugging:\n",
    "- Check that $\\boldsymbol{v}_{11} \\cdot \\boldsymbol{b}_{\\text {true }}=\\boldsymbol{h}_{1}^{\\mathrm{T}} \\boldsymbol{B}_{\\text {true }} \\boldsymbol{h}_{1}$"
   ]
  },
  {
   "cell_type": "code",
   "execution_count": 7,
   "metadata": {},
   "outputs": [
    {
     "name": "stdout",
     "output_type": "stream",
     "text": [
      "B_true\n",
      "[[ 1.0000e-06  0.0000e+00 -9.6000e-04]\n",
      " [ 0.0000e+00  1.0000e-06 -5.4000e-04]\n",
      " [-9.6000e-04 -5.4000e-04  2.2132e+00]]\n",
      "b_true\n",
      "[ 5.59552703e-14 -6.85117276e-22  5.59552724e-14 -5.37170686e-11\n",
      " -3.02158479e-11  1.23840221e-07]\n",
      "B\n",
      "[[ 4.51834392e-07  6.85117276e-22 -4.33761016e-04]\n",
      " [ 6.85117276e-22  4.51834392e-07 -2.43990572e-04]\n",
      " [-4.33761016e-04 -2.43990572e-04  9.99999876e-01]]\n"
     ]
    }
   ],
   "source": [
    "B_true = np.linalg.inv(K).T @ np.linalg.inv(K)\n",
    "print(\"B_true\")\n",
    "print(B_true)\n",
    "b_true = [\n",
    "    B_true[0, 0],\n",
    "    B_true[0, 1],\n",
    "    B_true[1, 1],\n",
    "    B_true[0, 2],\n",
    "    B_true[1, 2],\n",
    "    B_true[2, 2]\n",
    "]\n",
    "b_true = b_true/b_true[-1] - estimate_b([H_a, H_b, H_c])\n",
    "print(\"b_true\")\n",
    "print(b_true)\n",
    "\n",
    "b = estimate_b([H_a, H_b, H_c])\n",
    "B = np.array([\n",
    "    [b[0], b[1], b[3]],\n",
    "    [b[1], b[2], b[4]],\n",
    "    [b[3], b[4], b[5]],\n",
    "])\n",
    "print(\"B\")\n",
    "print(B)"
   ]
  },
  {
   "cell_type": "markdown",
   "metadata": {},
   "source": [
    "## Exercise 4.7\n",
    "Next, define a function estimateIntrisics(Hs) that takes a list of homographies Hs and returns a camera matrix $\\boldsymbol{K}$. Use your estimate_b from the previous exercise. From $\\boldsymbol{b}$, estimate the camera matrix $\\boldsymbol{K}$ (they use $\\boldsymbol{A}$ in the paper). Find the solution in Appendix B from the paper.\n",
    "Test your function with the homographies from Exercise 4.5. Do you get the original camera matrix?"
   ]
  },
  {
   "cell_type": "code",
   "execution_count": 8,
   "metadata": {},
   "outputs": [
    {
     "data": {
      "text/plain": [
       "array([[1000.,   -0.,  960.],\n",
       "       [   0., 1000.,  540.],\n",
       "       [   0.,    0.,    1.]])"
      ]
     },
     "execution_count": 8,
     "metadata": {},
     "output_type": "execute_result"
    }
   ],
   "source": [
    "np.rint(estimateIntrinsics(Hs))"
   ]
  },
  {
   "cell_type": "markdown",
   "metadata": {},
   "source": [
    "## Exercise 4.8\n",
    "Now, define a function Rs, ts = estimateExtrinsics (K, Hs) that takes the camera matrix $\\boldsymbol{K}$ and the homographies Hs and returns the rotations Rs and translations ts of each checkerboard. Use the formulas given in the paper but you do not need to bother with Appendix C we can live with the error.\n",
    "What kind of rotations do you get, and are they valid?\n",
    "Join the functions to make a larger function $K, R_{s}, t s=c a l i b r a t e c a m e r a(q s, Q)$ that finds the camera intrinsics and extrinsics from the checkerboard correspondences $q$ and $Q$."
   ]
  },
  {
   "cell_type": "code",
   "execution_count": 9,
   "metadata": {},
   "outputs": [
    {
     "name": "stdout",
     "output_type": "stream",
     "text": [
      "[[ 1.00000000e+03 -1.51630174e-12  9.60000000e+02]\n",
      " [ 0.00000000e+00  1.00000000e+03  5.40000000e+02]\n",
      " [ 0.00000000e+00  0.00000000e+00  1.00000000e+00]] [array([[ 7.07106781e-01, -6.72498512e-01,  2.18508012e-01],\n",
      "       [ 7.07106781e-01,  6.72498512e-01, -2.18508012e-01],\n",
      "       [-1.71103249e-14,  3.09016994e-01,  9.51056516e-01]]), array([[ 7.07106781e-01, -7.07106781e-01,  2.15689015e-14],\n",
      "       [ 7.07106781e-01,  7.07106781e-01,  2.75321045e-15],\n",
      "       [-1.71983303e-14,  1.33047028e-14,  1.00000000e+00]]), array([[ 7.07106781e-01, -6.72498512e-01, -2.18508012e-01],\n",
      "       [ 7.07106781e-01,  6.72498512e-01,  2.18508012e-01],\n",
      "       [-1.73150171e-14, -3.09016994e-01,  9.51056516e-01]])] [array([[2.07833750e-13],\n",
      "       [3.01980663e-14],\n",
      "       [1.00000000e+01]]), array([[2.07833750e-13],\n",
      "       [3.01980663e-14],\n",
      "       [1.00000000e+01]]), array([[2.06057393e-13],\n",
      "       [3.01980663e-14],\n",
      "       [1.00000000e+01]])]\n"
     ]
    }
   ],
   "source": [
    "K, Rs, ts = calibrateCamera(qs, Q_omega)\n",
    "print(K,Rs,ts)\n",
    "# print(np.round(R_a, 2))\n",
    "# print(np.round(Rs[0], 2))\n",
    "# print(np.linalg.norm(Rs[0], axis=0))\n",
    "# print(np.round(Rs[1], 2))\n",
    "# print(np.round(R_c, 2))\n",
    "# print(np.round(Rs[2], 2))\n",
    "# print(ts[0])"
   ]
  }
 ],
 "metadata": {
  "interpreter": {
   "hash": "e2f7feba068139f0f7d9d79c50ad8fffb328695f962cc01e69160a3465196941"
  },
  "kernelspec": {
   "display_name": "Python 3.9.10 64-bit (windows store)",
   "language": "python",
   "name": "python3"
  },
  "language_info": {
   "codemirror_mode": {
    "name": "ipython",
    "version": 3
   },
   "file_extension": ".py",
   "mimetype": "text/x-python",
   "name": "python",
   "nbconvert_exporter": "python",
   "pygments_lexer": "ipython3",
   "version": "3.10.4"
  },
  "orig_nbformat": 4
 },
 "nbformat": 4,
 "nbformat_minor": 2
}
